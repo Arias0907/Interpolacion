{
  "nbformat": 4,
  "nbformat_minor": 0,
  "metadata": {
    "colab": {
      "name": "Inter y transfor.ipynb",
      "version": "0.3.2",
      "provenance": [],
      "include_colab_link": true
    },
    "kernelspec": {
      "name": "python3",
      "display_name": "Python 3"
    }
  },
  "cells": [
    {
      "cell_type": "markdown",
      "metadata": {
        "id": "view-in-github",
        "colab_type": "text"
      },
      "source": [
        "<a href=\"https://colab.research.google.com/github/Arias0907/Interpolacion/blob/master/Inter_y_transfor.ipynb\" target=\"_parent\"><img src=\"https://colab.research.google.com/assets/colab-badge.svg\" alt=\"Open In Colab\"/></a>"
      ]
    },
    {
      "cell_type": "markdown",
      "metadata": {
        "id": "YllEynWxakYl",
        "colab_type": "text"
      },
      "source": [
        "#**Interpolacion Y Transformaciones**\n"
      ]
    },
    {
      "cell_type": "code",
      "metadata": {
        "id": "D_lhMz6qaip1",
        "colab_type": "code",
        "colab": {
          "base_uri": "https://localhost:8080/",
          "height": 34
        },
        "outputId": "08b08402-bcac-4323-ec4c-8fffaa0f2373"
      },
      "source": [
        "from google.colab import drive\n",
        "drive.mount('/content/drive')"
      ],
      "execution_count": 5,
      "outputs": [
        {
          "output_type": "stream",
          "text": [
            "Drive already mounted at /content/drive; to attempt to forcibly remount, call drive.mount(\"/content/drive\", force_remount=True).\n"
          ],
          "name": "stdout"
        }
      ]
    },
    {
      "cell_type": "code",
      "metadata": {
        "id": "IUJ6a6eFbEMe",
        "colab_type": "code",
        "colab": {
          "base_uri": "https://localhost:8080/",
          "height": 34
        },
        "outputId": "4036e16e-b239-4919-e198-1eee391bc083"
      },
      "source": [
        "import numpy as np\n",
        "import matplotlib.pyplot as plt\n",
        "import cv2\n",
        "import os\n",
        "\n",
        "path='/content/drive/My Drive/PDI/Interpolacion'\n",
        "os.chdir(path)\n",
        "!pwd\n",
        "# graficar imagenes estaticas en el notebook\n",
        "\n",
        "%matplotlib inline\n"
      ],
      "execution_count": 6,
      "outputs": [
        {
          "output_type": "stream",
          "text": [
            "/content/drive/My Drive/PDI/Interpolacion\n"
          ],
          "name": "stdout"
        }
      ]
    },
    {
      "cell_type": "code",
      "metadata": {
        "id": "zrKJ9M14b289",
        "colab_type": "code",
        "colab": {}
      },
      "source": [
        "def displayGray3(a,b,c, title1 = \"Original\", title2 = \"Edited\", title3 = \"Edited\"):\n",
        "    plt.figure(figsize=(3,3))\n",
        "    plt.subplot(131), plt.imshow(a), plt.title(title1)\n",
        "    plt.xticks([]), plt.yticks([])\n",
        "    plt.subplot(132), plt.imshow(b, cmap='gray'), plt.title(title2)\n",
        "    plt.xticks([]), plt.yticks([])\n",
        "    plt.subplot(133), plt.imshow(c, cmap = 'gray'), plt.title(title3)\n",
        "    plt.xticks([]), plt.yticks([])\n",
        "    plt.show()\n",
        "    \n",
        "def displayGray2(a,b, title1 = \"Original\", title2 = \"Edited\"):\n",
        "    plt.figure(figsize=(10,10))\n",
        "    plt.subplot(121), plt.imshow(a, cmap='gray'), plt.title(title1)\n",
        "    plt.xticks([]), plt.yticks([])\n",
        "    plt.subplot(122), plt.imshow(b, cmap='gray'), plt.title(title2)\n",
        "    plt.xticks([]), plt.yticks([])\n",
        "    plt.show()\n",
        "    \n",
        "def displayColor3(a,b,c, title1 = \"Original\", title2 = \"Edited\", title3 = \"Edited\"):\n",
        "    plt.figure(figsize=(10,10))\n",
        "    plt.subplot(131), plt.imshow(a), plt.title(title1)\n",
        "    plt.xticks([]), plt.yticks([])\n",
        "    plt.subplot(132), plt.imshow(b), plt.title(title2)\n",
        "    plt.xticks([]), plt.yticks([])\n",
        "    plt.subplot(133), plt.imshow(c), plt.title(title3)\n",
        "    plt.xticks([]), plt.yticks([])\n",
        "    plt.show()\n",
        "    \n",
        "def displayColor2(a,b, title1 = \"Original\", title2 = \"Edited\"):\n",
        "    plt.figure(figsize=(10,10))\n",
        "    plt.subplot(131), plt.imshow(a), plt.title(title1)\n",
        "    plt.xticks([]), plt.yticks([])\n",
        "    plt.subplot(132), plt.imshow(b), plt.title(title2)\n",
        "    plt.xticks([]), plt.yticks([])\n",
        "    plt.show()\n",
        "    \n",
        "def readRGB(imgPath):\n",
        "    img = cv2.imread(imgPath)\n",
        "    img = cv2.cvtColor(img,cv2.COLOR_BGR2RGB)\n",
        "    return img"
      ],
      "execution_count": 0,
      "outputs": []
    },
    {
      "cell_type": "markdown",
      "metadata": {
        "id": "90HCODgmmKQL",
        "colab_type": "text"
      },
      "source": [
        "#**Interpolacion Nearest Neighbour**"
      ]
    },
    {
      "cell_type": "code",
      "metadata": {
        "id": "8cbDcTEUeZoO",
        "colab_type": "code",
        "colab": {}
      },
      "source": [
        "imgA = readRGB('apple20x22.jpg')\n",
        "imgM = readRGB('ico.jpg')\n",
        "near_imgA = cv2.resize(imgA,None, fx=5, fy=5, interpolation = cv2.INTER_NEAREST)\n",
        "near_imgM = cv2.resize(imgM,None, fx=5, fy=5, interpolation = cv2.INTER_NEAREST)\n",
        "displayColor2(near_imgA,near_imgM,'apple','señora')"
      ],
      "execution_count": 0,
      "outputs": []
    },
    {
      "cell_type": "markdown",
      "metadata": {
        "id": "1M-e3vybmHac",
        "colab_type": "text"
      },
      "source": [
        "#**Interpolacion BiLinear**"
      ]
    },
    {
      "cell_type": "code",
      "metadata": {
        "id": "EZrfy4MDj3oo",
        "colab_type": "code",
        "colab": {}
      },
      "source": [
        "imgA = readRGB('apple20x22.jpg')\n",
        "imgM = readRGB('ico.jpg')\n",
        "bill_imgA = cv2.resize(imgA,None, fx=5, fy=5, interpolation = cv2.INTER_LINEAR)\n",
        "bill_imgM = cv2.resize(imgM,None, fx=5, fy=5, interpolation = cv2.INTER_LINEAR)\n",
        "displayColor2(near_imgA,near_imgM,'apple','señora')"
      ],
      "execution_count": 0,
      "outputs": []
    },
    {
      "cell_type": "markdown",
      "metadata": {
        "id": "kcy6Gro7l_Qq",
        "colab_type": "text"
      },
      "source": [
        "#**Interpolacion BiCubic**"
      ]
    },
    {
      "cell_type": "code",
      "metadata": {
        "id": "oEbjtFOLl4fT",
        "colab_type": "code",
        "colab": {}
      },
      "source": [
        "imgA = readRGB('apple20x22.jpg')\n",
        "imgM = readRGB('ico.jpg')\n",
        "bicu_imgA = cv2.resize(imgA,None, fx=5, fy=5, interpolation = cv2.INTER_CUBIC)\n",
        "bicu_imgM = cv2.resize(imgM,None, fx=5, fy=5, interpolation = cv2.INTER_CUBIC)\n",
        "displayColor2(near_imgA,near_imgM,'apple','señora')"
      ],
      "execution_count": 0,
      "outputs": []
    },
    {
      "cell_type": "code",
      "metadata": {
        "id": "wCutSCKYmiNF",
        "colab_type": "code",
        "colab": {}
      },
      "source": [
        "displayColor3(near_imgA, bill_imgA, bicu_imgA)"
      ],
      "execution_count": 0,
      "outputs": []
    },
    {
      "cell_type": "code",
      "metadata": {
        "id": "274m9GpdmshM",
        "colab_type": "code",
        "colab": {}
      },
      "source": [
        "displayColor3(near_imgM, bill_imgM, bicu_imgM)"
      ],
      "execution_count": 0,
      "outputs": []
    },
    {
      "cell_type": "markdown",
      "metadata": {
        "id": "GtZM1Uy_rEG-",
        "colab_type": "text"
      },
      "source": [
        "#**Otros metodos de interpolacion**\n"
      ]
    },
    {
      "cell_type": "code",
      "metadata": {
        "id": "xUnXbxGsrMri",
        "colab_type": "code",
        "colab": {}
      },
      "source": [
        "methods = [None, 'none', 'nearest', 'bilinear', 'bicubic', 'spline16', 'spline36', 'hanning', 'hamming', 'hermite', 'kaiser', 'quadric', 'catrom', 'gaussian', 'bessel', 'mitchell', 'sinc', 'lanczos']\n",
        "\n",
        "#grid = np.random.ran(4,4)\n",
        "grind=imgA\n",
        "\n",
        "fig, axes = plt.subplots(3, 6, figsize=(12,6),\n",
        "                         subplot_kw={'xticks':[], 'yticks': []})\n",
        "\n",
        "fig.subplots_adjust(hspace=0.3, wspace=0.05)\n",
        "\n",
        "for ax, interp_method in zip(axes.flat, methods):\n",
        "    ax.imshow(grind, interpolation=interp_method)\n",
        "    ax.set_title(interp_method)\n",
        "    \n",
        "plt.show()"
      ],
      "execution_count": 0,
      "outputs": []
    },
    {
      "cell_type": "code",
      "metadata": {
        "id": "NNFOx5j2uQkR",
        "colab_type": "code",
        "colab": {}
      },
      "source": [
        "methods = [None, 'none', 'nearest', 'bilinear', 'bicubic', 'spline16', 'spline36', 'hanning', 'hamming', 'hermite', 'kaiser', 'quadric', 'catrom', 'gaussian', 'bessel', 'mitchell', 'sinc', 'lanczos']\n",
        "\n",
        "grind = np.random.rand(4, 4)\n",
        "\n",
        "\n",
        "fig, axes = plt.subplots(3, 6, figsize=(12,6),\n",
        "                         subplot_kw={'xticks':[], 'yticks': []})\n",
        "\n",
        "fig.subplots_adjust(hspace=0.3, wspace=0.05)\n",
        "\n",
        "for ax, interp_method in zip(axes.flat, methods):\n",
        "    ax.imshow(grind, interpolation=interp_method)\n",
        "    ax.set_title(interp_method)\n",
        "    \n",
        "plt.show()"
      ],
      "execution_count": 0,
      "outputs": []
    },
    {
      "cell_type": "code",
      "metadata": {
        "id": "_12gZYeP0Jc1",
        "colab_type": "code",
        "colab": {}
      },
      "source": [
        "from PIL import Image\n",
        "\n",
        "foto = Image.open('playa.jpg')\n",
        "\n",
        "datos = list(foto.getdata())\n",
        "\n",
        "datos_invertidos = [(255 - datos[x][0], 255 - datos[x][1], 255 - datos[x][2]) for x in range(len(datos))]\n",
        "\n",
        "imagen_invertida = Image.new('RGB', foto.size)\n",
        "\n",
        "imagen_invertida.putdata(datos_invertidos)\n",
        "\n",
        "#imagen_invertida.save('playa2.jpg')\n",
        "\n",
        "plt.imshow(np.asarray(imagen_invertida))"
      ],
      "execution_count": 0,
      "outputs": []
    },
    {
      "cell_type": "code",
      "metadata": {
        "id": "kEeVVZGr2nLl",
        "colab_type": "code",
        "colab": {}
      },
      "source": [
        "from PIL import Image\n",
        "\n",
        "foto = Image.open('ojo.jpg')\n",
        "\n",
        "datos = foto.getdata()\n",
        "\n",
        "datos_invertidos = [255 - x for x in datos]\n",
        "\n",
        "imagen_invertida = Image.new('L', foto.size)\n",
        "\n",
        "imagen_invertida.putdata(datos_invertidos)\n",
        "\n",
        "#imagen_invertida.save('playa2.jpg')\n",
        "\n",
        "plt.imshow(np.asarray(imagen_invertida), cmap = 'gray')"
      ],
      "execution_count": 0,
      "outputs": []
    },
    {
      "cell_type": "code",
      "metadata": {
        "id": "8HcwSTh53j2H",
        "colab_type": "code",
        "colab": {}
      },
      "source": [
        "def negative(l):\n",
        "    #cargar imagen\n",
        "    img=cv2.imread(\"ojo.jpg\", cv2.IMREAD_GRAYSCALE)\n",
        "    rows, columns = img.shape\n",
        "    img2 = np.zeros((rows, columns), dtype = np.uint8)\n",
        "    for x in range(rows):\n",
        "        for y in range(columns):\n",
        "            img2[x,y] = (l-1)-img[x,y]\n",
        "    \n",
        "    displayGray2(img, img2, 'original', 'Negativo')\n",
        "    return\n",
        "\n",
        "negative(56)"
      ],
      "execution_count": 0,
      "outputs": []
    },
    {
      "cell_type": "code",
      "metadata": {
        "id": "IKfCZEhb5tkt",
        "colab_type": "code",
        "colab": {}
      },
      "source": [
        "import cv2\n",
        "import numpy as np\n",
        "#load the image\n",
        "img=cv2.imread('ojo.jpg')\n",
        "#apply log transform\n",
        "img_log=(np.log(img+1)/(np.log(1+np.max(img))))*255\n",
        "#Specify the dataa type\n",
        "img_log = np.array(img_log, dtype=np.uint8)\n",
        "#Display the image\n",
        "displayGray2(img, img_log, 'original', 'log image')"
      ],
      "execution_count": 0,
      "outputs": []
    }
  ]
}